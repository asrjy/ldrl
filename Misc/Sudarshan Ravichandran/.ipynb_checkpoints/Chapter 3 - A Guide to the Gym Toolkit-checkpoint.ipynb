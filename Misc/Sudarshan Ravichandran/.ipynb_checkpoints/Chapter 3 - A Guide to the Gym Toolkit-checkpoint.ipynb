{
 "cells": [
  {
   "cell_type": "markdown",
   "id": "9f2911e0-f04c-464b-bf8f-5f04132b8c5e",
   "metadata": {},
   "source": [
    "## Exploring OpenAI Gym"
   ]
  },
  {
   "cell_type": "code",
   "execution_count": 21,
   "id": "d89253b9-bc05-40cb-96de-3686e91a5549",
   "metadata": {},
   "outputs": [],
   "source": [
    "import gym"
   ]
  },
  {
   "cell_type": "code",
   "execution_count": 22,
   "id": "6d77d139-22b3-42df-9d07-e6e82e011123",
   "metadata": {},
   "outputs": [],
   "source": [
    "env = gym.make(\"FrozenLake-v0\")"
   ]
  },
  {
   "cell_type": "code",
   "execution_count": 23,
   "id": "51210605-2bce-464e-a4cd-e06ea4cf2feb",
   "metadata": {},
   "outputs": [
    {
     "name": "stdout",
     "output_type": "stream",
     "text": [
      "\n",
      "\u001b[41mS\u001b[0mFFF\n",
      "FHFH\n",
      "FFFH\n",
      "HFFG\n"
     ]
    }
   ],
   "source": [
    "env.render()"
   ]
  },
  {
   "cell_type": "code",
   "execution_count": 24,
   "id": "2c70292a-72e5-432d-872f-1705de9c2e67",
   "metadata": {},
   "outputs": [
    {
     "name": "stdout",
     "output_type": "stream",
     "text": [
      "Discrete(16)\n"
     ]
    }
   ],
   "source": [
    "print(env.observation_space)"
   ]
  },
  {
   "cell_type": "code",
   "execution_count": 25,
   "id": "72ba8e30-feaf-436e-b637-3710b4d167df",
   "metadata": {},
   "outputs": [
    {
     "name": "stdout",
     "output_type": "stream",
     "text": [
      "Discrete(4)\n"
     ]
    }
   ],
   "source": [
    "print(env.action_space)"
   ]
  },
  {
   "cell_type": "code",
   "execution_count": 26,
   "id": "907871b8-34a6-4be7-89e3-fd6fcd324ded",
   "metadata": {},
   "outputs": [
    {
     "data": {
      "text/plain": [
       "[(0.3333333333333333, 4, 0.0, False),\n",
       " (0.3333333333333333, 1, 0.0, False),\n",
       " (0.3333333333333333, 0, 0.0, False)]"
      ]
     },
     "execution_count": 26,
     "metadata": {},
     "output_type": "execute_result"
    }
   ],
   "source": [
    "env.P[0][2]"
   ]
  },
  {
   "cell_type": "code",
   "execution_count": 27,
   "id": "b3eff8d0-8d23-406e-b36f-c3b1d0064a32",
   "metadata": {},
   "outputs": [
    {
     "data": {
      "text/plain": [
       "[(0.3333333333333333, 2, 0.0, False),\n",
       " (0.3333333333333333, 7, 0.0, True),\n",
       " (0.3333333333333333, 3, 0.0, False)]"
      ]
     },
     "execution_count": 27,
     "metadata": {},
     "output_type": "execute_result"
    }
   ],
   "source": [
    "env.P[3][1]"
   ]
  },
  {
   "cell_type": "code",
   "execution_count": 28,
   "id": "3a0c5611-c616-4f82-8a8f-28f9263ef7ef",
   "metadata": {},
   "outputs": [],
   "source": [
    "state = env.reset()"
   ]
  },
  {
   "cell_type": "code",
   "execution_count": 29,
   "id": "16aa3088-6ecb-4125-8038-f199611d659a",
   "metadata": {},
   "outputs": [
    {
     "data": {
      "text/plain": [
       "(0, 0.0, False, {'prob': 0.3333333333333333})"
      ]
     },
     "execution_count": 29,
     "metadata": {},
     "output_type": "execute_result"
    }
   ],
   "source": [
    "env.step(1)"
   ]
  },
  {
   "cell_type": "code",
   "execution_count": 30,
   "id": "7fec1d58-7f34-4b00-9670-2f480c817491",
   "metadata": {},
   "outputs": [
    {
     "name": "stdout",
     "output_type": "stream",
     "text": [
      "  (Down)\n",
      "\u001b[41mS\u001b[0mFFF\n",
      "FHFH\n",
      "FFFH\n",
      "HFFG\n"
     ]
    }
   ],
   "source": [
    "env.render()"
   ]
  },
  {
   "cell_type": "code",
   "execution_count": 31,
   "id": "83e32a14-95bb-4986-b2d0-7ea1f4cbcac2",
   "metadata": {},
   "outputs": [],
   "source": [
    "(next_state, reward, done, info) = env.step(1)"
   ]
  },
  {
   "cell_type": "code",
   "execution_count": 32,
   "id": "acf17572-90ad-40ee-8b5f-a97420f94391",
   "metadata": {},
   "outputs": [],
   "source": [
    "random_action = env.action_space.sample()"
   ]
  },
  {
   "cell_type": "code",
   "execution_count": 33,
   "id": "3ad4f556-7764-476d-bc01-d36a8943c80e",
   "metadata": {},
   "outputs": [
    {
     "data": {
      "text/plain": [
       "1"
      ]
     },
     "execution_count": 33,
     "metadata": {},
     "output_type": "execute_result"
    }
   ],
   "source": [
    "random_action"
   ]
  },
  {
   "cell_type": "code",
   "execution_count": 34,
   "id": "b667f8aa-998f-4329-af29-6317e0c6217e",
   "metadata": {},
   "outputs": [],
   "source": [
    "next_state, reward, done, info = env.step(random_action)"
   ]
  },
  {
   "cell_type": "code",
   "execution_count": 35,
   "id": "0888b9d8-8bfb-42e7-a98c-4e9ab4a2aa7f",
   "metadata": {},
   "outputs": [
    {
     "name": "stdout",
     "output_type": "stream",
     "text": [
      "  (Down)\n",
      "SFFF\n",
      "\u001b[41mF\u001b[0mHFH\n",
      "FFFH\n",
      "HFFG\n"
     ]
    }
   ],
   "source": [
    "env.render()"
   ]
  },
  {
   "cell_type": "code",
   "execution_count": 36,
   "id": "25f47f2e-a6a4-42e8-924f-2264e29dfdff",
   "metadata": {},
   "outputs": [
    {
     "name": "stdout",
     "output_type": "stream",
     "text": [
      "Time Step 0 : \n",
      "\n",
      "\u001b[41mS\u001b[0mFFF\n",
      "FHFH\n",
      "FFFH\n",
      "HFFG\n",
      "Time Step 1 : \n",
      "  (Down)\n",
      "\u001b[41mS\u001b[0mFFF\n",
      "FHFH\n",
      "FFFH\n",
      "HFFG\n",
      "Time Step 2 : \n",
      "  (Left)\n",
      "SFFF\n",
      "\u001b[41mF\u001b[0mHFH\n",
      "FFFH\n",
      "HFFG\n",
      "Time Step 3 : \n",
      "  (Right)\n",
      "\u001b[41mS\u001b[0mFFF\n",
      "FHFH\n",
      "FFFH\n",
      "HFFG\n",
      "Time Step 4 : \n",
      "  (Left)\n",
      "SFFF\n",
      "\u001b[41mF\u001b[0mHFH\n",
      "FFFH\n",
      "HFFG\n",
      "Time Step 5 : \n",
      "  (Down)\n",
      "SFFF\n",
      "F\u001b[41mH\u001b[0mFH\n",
      "FFFH\n",
      "HFFG\n"
     ]
    }
   ],
   "source": [
    "env.reset()\n",
    "print(f\"Time Step 0 : \")\n",
    "env.render()\n",
    "num_timesteps = 15\n",
    "for t in range(num_timesteps):\n",
    "    random_action = env.action_space.sample()\n",
    "    next_state, reward, done, info = env.step(random_action)\n",
    "    print(f\"Time Step {t+1} : \")\n",
    "    env.render()\n",
    "    if done:\n",
    "        break"
   ]
  },
  {
   "cell_type": "code",
   "execution_count": 38,
   "id": "ce15f651-e266-4c96-ae66-c337d22c21de",
   "metadata": {},
   "outputs": [
    {
     "name": "stdout",
     "output_type": "stream",
     "text": [
      "Time Step 0: \n",
      "\n",
      "\u001b[41mS\u001b[0mFFF\n",
      "FHFH\n",
      "FFFH\n",
      "HFFG\n",
      "Time Step 0: \n",
      "Time Step 1: \n",
      "Time Step 2: \n",
      "Time Step 3: \n",
      "Time Step 4: \n",
      "Time Step 5: \n",
      "Time Step 6: \n",
      "Time Step 7: \n",
      "  (Down)\n",
      "SFFF\n",
      "FHFH\n",
      "FFFH\n",
      "\u001b[41mH\u001b[0mFFG\n",
      "Time Step 0: \n",
      "\n",
      "\u001b[41mS\u001b[0mFFF\n",
      "FHFH\n",
      "FFFH\n",
      "HFFG\n",
      "Time Step 0: \n",
      "Time Step 1: \n",
      "Time Step 2: \n",
      "Time Step 3: \n",
      "Time Step 4: \n",
      "Time Step 5: \n",
      "Time Step 6: \n",
      "Time Step 7: \n",
      "Time Step 8: \n",
      "Time Step 9: \n",
      "Time Step 10: \n",
      "Time Step 11: \n",
      "Time Step 12: \n",
      "Time Step 13: \n",
      "Time Step 14: \n",
      "  (Right)\n",
      "SFFF\n",
      "F\u001b[41mH\u001b[0mFH\n",
      "FFFH\n",
      "HFFG\n",
      "Time Step 0: \n",
      "\n",
      "\u001b[41mS\u001b[0mFFF\n",
      "FHFH\n",
      "FFFH\n",
      "HFFG\n",
      "Time Step 0: \n",
      "Time Step 1: \n",
      "Time Step 2: \n",
      "Time Step 3: \n",
      "Time Step 4: \n",
      "Time Step 5: \n",
      "Time Step 6: \n",
      "  (Up)\n",
      "SFFF\n",
      "F\u001b[41mH\u001b[0mFH\n",
      "FFFH\n",
      "HFFG\n",
      "Time Step 0: \n",
      "\n",
      "\u001b[41mS\u001b[0mFFF\n",
      "FHFH\n",
      "FFFH\n",
      "HFFG\n",
      "Time Step 0: \n",
      "Time Step 1: \n",
      "Time Step 2: \n",
      "Time Step 3: \n",
      "Time Step 4: \n",
      "Time Step 5: \n",
      "Time Step 6: \n",
      "Time Step 7: \n",
      "Time Step 8: \n",
      "Time Step 9: \n",
      "Time Step 10: \n",
      "Time Step 11: \n",
      "Time Step 12: \n",
      "  (Right)\n",
      "SFFF\n",
      "FHFH\n",
      "FFFH\n",
      "\u001b[41mH\u001b[0mFFG\n",
      "Time Step 0: \n",
      "\n",
      "\u001b[41mS\u001b[0mFFF\n",
      "FHFH\n",
      "FFFH\n",
      "HFFG\n",
      "Time Step 0: \n",
      "Time Step 1: \n",
      "Time Step 2: \n",
      "  (Down)\n",
      "SFFF\n",
      "F\u001b[41mH\u001b[0mFH\n",
      "FFFH\n",
      "HFFG\n",
      "Time Step 0: \n",
      "\n",
      "\u001b[41mS\u001b[0mFFF\n",
      "FHFH\n",
      "FFFH\n",
      "HFFG\n",
      "Time Step 0: \n",
      "Time Step 1: \n",
      "Time Step 2: \n",
      "Time Step 3: \n",
      "Time Step 4: \n",
      "Time Step 5: \n",
      "Time Step 6: \n",
      "Time Step 7: \n",
      "Time Step 8: \n",
      "Time Step 9: \n",
      "Time Step 10: \n",
      "Time Step 11: \n",
      "Time Step 12: \n",
      "Time Step 13: \n",
      "  (Left)\n",
      "SFFF\n",
      "F\u001b[41mH\u001b[0mFH\n",
      "FFFH\n",
      "HFFG\n",
      "Time Step 0: \n",
      "\n",
      "\u001b[41mS\u001b[0mFFF\n",
      "FHFH\n",
      "FFFH\n",
      "HFFG\n",
      "Time Step 0: \n",
      "Time Step 1: \n",
      "Time Step 2: \n",
      "Time Step 3: \n",
      "Time Step 4: \n",
      "Time Step 5: \n",
      "Time Step 6: \n",
      "Time Step 7: \n",
      "Time Step 8: \n",
      "Time Step 9: \n",
      "Time Step 10: \n",
      "Time Step 11: \n",
      "Time Step 12: \n",
      "Time Step 13: \n",
      "Time Step 14: \n",
      "Time Step 0: \n",
      "\n",
      "\u001b[41mS\u001b[0mFFF\n",
      "FHFH\n",
      "FFFH\n",
      "HFFG\n",
      "Time Step 0: \n",
      "Time Step 1: \n",
      "Time Step 2: \n",
      "Time Step 3: \n",
      "Time Step 4: \n",
      "Time Step 5: \n",
      "Time Step 6: \n",
      "Time Step 7: \n",
      "Time Step 8: \n",
      "Time Step 9: \n",
      "Time Step 10: \n",
      "Time Step 11: \n",
      "Time Step 12: \n",
      "Time Step 13: \n",
      "Time Step 14: \n",
      "Time Step 0: \n",
      "\n",
      "\u001b[41mS\u001b[0mFFF\n",
      "FHFH\n",
      "FFFH\n",
      "HFFG\n",
      "Time Step 0: \n",
      "Time Step 1: \n",
      "  (Right)\n",
      "SFFF\n",
      "F\u001b[41mH\u001b[0mFH\n",
      "FFFH\n",
      "HFFG\n",
      "Time Step 0: \n",
      "\n",
      "\u001b[41mS\u001b[0mFFF\n",
      "FHFH\n",
      "FFFH\n",
      "HFFG\n",
      "Time Step 0: \n",
      "Time Step 1: \n",
      "Time Step 2: \n",
      "Time Step 3: \n",
      "  (Right)\n",
      "SFFF\n",
      "FHFH\n",
      "FFFH\n",
      "\u001b[41mH\u001b[0mFFG\n"
     ]
    }
   ],
   "source": [
    "env = gym.make(\"FrozenLake-v0\")\n",
    "num_episodes = 10\n",
    "num_timesteps = 15\n",
    "for i in range(num_episodes):\n",
    "    state = env.reset()\n",
    "    print(f\"Time Step 0: \")\n",
    "    env.render()\n",
    "    for t in range(num_timesteps):\n",
    "        random_action = env.action_space.sample()\n",
    "        new_state, reward, done, info = env.step(random_action)\n",
    "        print(f\"Time Step {t}: \")\n",
    "        # env.render()\n",
    "        if done:\n",
    "            env.render()\n",
    "            break"
   ]
  }
 ],
 "metadata": {
  "kernelspec": {
   "display_name": "Python 3 (ipykernel)",
   "language": "python",
   "name": "python3"
  },
  "language_info": {
   "codemirror_mode": {
    "name": "ipython",
    "version": 3
   },
   "file_extension": ".py",
   "mimetype": "text/x-python",
   "name": "python",
   "nbconvert_exporter": "python",
   "pygments_lexer": "ipython3",
   "version": "3.9.12"
  }
 },
 "nbformat": 4,
 "nbformat_minor": 5
}
