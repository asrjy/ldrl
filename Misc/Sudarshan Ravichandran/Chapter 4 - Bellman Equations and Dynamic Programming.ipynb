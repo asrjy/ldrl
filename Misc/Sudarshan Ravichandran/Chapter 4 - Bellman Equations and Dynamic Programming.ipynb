{
 "cells": [
  {
   "cell_type": "markdown",
   "id": "6956b802-8363-4129-b476-be893925cd17",
   "metadata": {},
   "source": [
    "## Frozen Lake Optimal Policy through Value Iteration"
   ]
  },
  {
   "cell_type": "code",
   "execution_count": 1,
   "id": "11da24b6-c744-460e-849e-fd1f275cedf0",
   "metadata": {},
   "outputs": [],
   "source": [
    "import gym\n",
    "import numpy as np"
   ]
  },
  {
   "cell_type": "code",
   "execution_count": 2,
   "id": "ceea7ad7-edc7-4c08-9a6a-411e3a46537b",
   "metadata": {},
   "outputs": [],
   "source": [
    "env = gym.make('FrozenLake-v0')"
   ]
  },
  {
   "cell_type": "code",
   "execution_count": 3,
   "id": "7d7d2dee-bb4d-4082-85f3-feae10842c40",
   "metadata": {},
   "outputs": [
    {
     "name": "stdout",
     "output_type": "stream",
     "text": [
      "\n",
      "\u001b[41mS\u001b[0mFFF\n",
      "FHFH\n",
      "FFFH\n",
      "HFFG\n"
     ]
    }
   ],
   "source": [
    "env.render()"
   ]
  },
  {
   "cell_type": "code",
   "execution_count": 4,
   "id": "41b5d09e-f539-47c5-8fda-589f4795040c",
   "metadata": {},
   "outputs": [],
   "source": [
    "def value_iteration(env):\n",
    "    num_iterations = 1000\n",
    "    threshold = 1e-20\n",
    "    gamma = 1.0\n",
    "    value_table = np.zeros(env.observation_space.n)\n",
    "    for i in range(num_iterations):\n",
    "        updated_value_table = np.copy(value_table)\n",
    "        for s in range(env.observation_space.n):\n",
    "            Q_values = [sum([prob*(r + gamma * updated_value_table[s_])\n",
    "                             for prob, s_, r, _ in env.P[s][a]]) \n",
    "                                for a in range(env.action_space.n)]\n",
    "            value_table[s] = max(Q_values)\n",
    "        if (np.sum(np.fabs(updated_value_table - value_table)) <= threshold):\n",
    "            break\n",
    "    return value_table"
   ]
  },
  {
   "cell_type": "code",
   "execution_count": 5,
   "id": "8b1239e1-92c2-4922-9856-6872ad069152",
   "metadata": {},
   "outputs": [],
   "source": [
    "def extract_policy(value_table):\n",
    "    gamma = 1.0\n",
    "    policy = np.zeros(env.observation_space.n)\n",
    "    for s in range(env.observation_space.n):\n",
    "        Q_values = [sum([prob * (r + gamma * value_table[s_])\n",
    "                        for prob, s_, r, _ in env.P[s][a]])\n",
    "                           for a in range(env.action_space.n)]\n",
    "        policy[s] = np.argmax(np.array(Q_values))\n",
    "    return policy"
   ]
  },
  {
   "cell_type": "code",
   "execution_count": 6,
   "id": "6ebf8203-6a0e-4df9-86f7-78c8e590ae91",
   "metadata": {},
   "outputs": [],
   "source": [
    "optimal_value_function = value_iteration(env)\n",
    "optimal_policy = extract_policy(optimal_value_function)"
   ]
  },
  {
   "cell_type": "code",
   "execution_count": 7,
   "id": "30bbf560-15af-4ecf-b693-3f5f759767cf",
   "metadata": {},
   "outputs": [
    {
     "data": {
      "text/plain": [
       "array([0., 3., 3., 3., 0., 0., 0., 0., 3., 1., 0., 0., 0., 2., 1., 0.])"
      ]
     },
     "execution_count": 7,
     "metadata": {},
     "output_type": "execute_result"
    }
   ],
   "source": [
    "optimal_policy"
   ]
  },
  {
   "cell_type": "markdown",
   "id": "8da05e98-c94b-4972-99ae-b7244f8dd229",
   "metadata": {},
   "source": [
    "## Frozen Lake Optimal Policy through Policy Iteration"
   ]
  },
  {
   "cell_type": "code",
   "execution_count": 8,
   "id": "14c63ca3-b0b2-4e85-92ad-a3b5fa2a29ce",
   "metadata": {},
   "outputs": [],
   "source": [
    "env = gym.make('FrozenLake-v0')"
   ]
  },
  {
   "cell_type": "code",
   "execution_count": 9,
   "id": "1df5a3e2-a208-43bd-a87b-368af2899de9",
   "metadata": {},
   "outputs": [],
   "source": [
    "def compute_value_function(policy):\n",
    "    num_iterations = 1000\n",
    "    threshold = 1e-20\n",
    "    gamma = 1.0\n",
    "    value_table = np.zeros(env.observation_space.n)\n",
    "    for i in range(num_iterations):\n",
    "        updated_value_table = np.copy(value_table)\n",
    "        for s in range(env.observation_space.n):\n",
    "            a = policy[s]\n",
    "            value_table[s] = sum(\n",
    "                                [prob * (r + gamma * updated_value_table[s_])\n",
    "                                    for prob, s_, r, _ in env.P[s][a]])\n",
    "        if (np.sum(np.fabs(updated_value_table - value_table)) <= threshold):\n",
    "            break\n",
    "    return value_table"
   ]
  },
  {
   "cell_type": "code",
   "execution_count": 10,
   "id": "c771bbf1-ee14-4b78-9011-5b25a8a92c67",
   "metadata": {},
   "outputs": [],
   "source": [
    "def extract_policy(value_table):\n",
    "    gamma = 1.0\n",
    "    policy = np.zeros(env.observation_space.n)\n",
    "    for s in range(env.observation_space.n):\n",
    "        Q_values = [sum([prob * (r + gamma * value_table[s_])\n",
    "                        for prob, s_, r, _ in env.P[s][a]])\n",
    "                           for a in range(env.action_space.n)]\n",
    "        policy[s] = np.argmax(np.array(Q_values))\n",
    "    return policy"
   ]
  },
  {
   "cell_type": "code",
   "execution_count": 11,
   "id": "60881ad8-3bc1-4e4b-8daf-fce1dfe25194",
   "metadata": {},
   "outputs": [],
   "source": [
    "def policy_iteration(env):\n",
    "    num_iterations = 1000\n",
    "    policy = np.zeros(env.observation_space.n)\n",
    "    for i in range(num_iterations):\n",
    "        value_function = compute_value_function(policy)\n",
    "        new_policy = extract_policy(value_function)\n",
    "        if (np.all(policy == new_policy)):\n",
    "            break\n",
    "        policy = new_policy\n",
    "    return policy"
   ]
  },
  {
   "cell_type": "code",
   "execution_count": 12,
   "id": "68c3c1a1-4341-4616-a240-75e2b9a219b9",
   "metadata": {},
   "outputs": [],
   "source": [
    "optimal_policy = policy_iteration(env)"
   ]
  },
  {
   "cell_type": "code",
   "execution_count": 13,
   "id": "7e7983a5-9755-4f4a-ad01-8a42b22fdc93",
   "metadata": {},
   "outputs": [
    {
     "name": "stdout",
     "output_type": "stream",
     "text": [
      "[0. 3. 3. 3. 0. 0. 0. 0. 3. 1. 0. 0. 0. 2. 1. 0.]\n"
     ]
    }
   ],
   "source": [
    "print(optimal_policy)"
   ]
  }
 ],
 "metadata": {
  "kernelspec": {
   "display_name": "Python 3 (ipykernel)",
   "language": "python",
   "name": "python3"
  },
  "language_info": {
   "codemirror_mode": {
    "name": "ipython",
    "version": 3
   },
   "file_extension": ".py",
   "mimetype": "text/x-python",
   "name": "python",
   "nbconvert_exporter": "python",
   "pygments_lexer": "ipython3",
   "version": "3.9.12"
  }
 },
 "nbformat": 4,
 "nbformat_minor": 5
}
